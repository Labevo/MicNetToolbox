{
 "cells": [
  {
   "cell_type": "markdown",
   "id": "4e10ad43",
   "metadata": {},
   "source": [
    "# Running MicNet GUI on your computer"
   ]
  },
  {
   "cell_type": "markdown",
   "id": "7c0f1b46",
   "metadata": {},
   "source": [
    "If you do not wish to use the web app of MicNet because you wish to run MicNet GUI using **your own computer disk and RAM resources**, all you have to do is run the following steps:"
   ]
  },
  {
   "cell_type": "markdown",
   "id": "d5dc354c",
   "metadata": {},
   "source": [
    "**1.** Make sure that before you lunch this jupyter notebook you created and activated the conda environment:  \n",
    "<pre><code>\n",
    "    conda env create -f environment.yml\n",
    "    conda activate MicNet-env\n",
    "<code><pre>"
   ]
  },
  {
   "cell_type": "markdown",
   "id": "143af5cd",
   "metadata": {},
   "source": [
    "**2.** Excellent! The next step is really easy, just lunch the GUI directly running the following cell:"
   ]
  },
  {
   "cell_type": "code",
   "execution_count": 4,
   "id": "648c131b",
   "metadata": {},
   "outputs": [
    {
     "name": "stdout",
     "output_type": "stream",
     "text": [
      "Usage: streamlit run [OPTIONS] TARGET [ARGS]...\r\n",
      "\r\n",
      "Error: Invalid value: File does not exist: app.py\r\n"
     ]
    }
   ],
   "source": []
  },
  {
   "cell_type": "code",
   "execution_count": null,
   "id": "37de9def",
   "metadata": {},
   "outputs": [],
   "source": []
  }
 ],
 "metadata": {
  "kernelspec": {
   "display_name": "Python 3 (ipykernel)",
   "language": "python",
   "name": "python3"
  },
  "language_info": {
   "codemirror_mode": {
    "name": "ipython",
    "version": 3
   },
   "file_extension": ".py",
   "mimetype": "text/x-python",
   "name": "python",
   "nbconvert_exporter": "python",
   "pygments_lexer": "ipython3",
   "version": "3.9.9"
  }
 },
 "nbformat": 4,
 "nbformat_minor": 5
}
